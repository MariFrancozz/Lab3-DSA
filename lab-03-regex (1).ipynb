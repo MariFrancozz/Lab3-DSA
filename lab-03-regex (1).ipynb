{
 "cells": [
  {
   "cell_type": "code",
   "execution_count": 51,
   "id": "2be77074",
   "metadata": {},
   "outputs": [],
   "source": [
    "#Música que recebera o REGEX.\n",
    "texto = \"\"\"\"Oh, when you walk by every night\n",
    "Talking sweet and looking fine\n",
    "I get kinda hectic inside\n",
    "Mmm, baby I'm so into you\n",
    "Darling, if you only knew\n",
    "All the things that flow through my mind\n",
    "But it's just a sweet sweet fantasy baby\n",
    "When I close my eyes\n",
    "You come and you take me\n",
    "It's so deep in my daydreams\n",
    "But it's just a sweet, sweet fantasy baby\n",
    "Images of rapture\n",
    "Creep into me slowly\n",
    "As you're góing to my head\n",
    "And my heart beats faster\n",
    "When you take me over\n",
    "Time and time and time again\n",
    "But it's just a sweet sweet fantasy baby\n",
    "When I close my eyes\n",
    "You come and you take me\n",
    "It's so deep in my daydreams\n",
    "But it's just a sweet, sweet fantasy baby\n",
    "Sweet sweet fantasy baby\n",
    "When I close my eyes\n",
    "You come and you take me\n",
    "It's so deep in my daydreams\n",
    "But it's just a sweet, sweet fantasy baby\n",
    "I'm in heaven\n",
    "With my bóyfriend\n",
    "My laughing boyfriend\n",
    "There's no beginning\n",
    "And there is no end\n",
    "Feels like I'm dreaming\n",
    "But I'm not sleeping\n",
    "Sweet sweet fantasy baby\n",
    "When I close my eyes\n",
    "You come and you take me\n",
    "It's so deep in my daydreams\n",
    "But it's just a sweet, sweet fantasy baby\n",
    "Sweet sweet fantasy baby\n",
    "When I close my eyes\n",
    "You come and you take me\n",
    "It's so deep in my daydreams\n",
    "But it's just a sweet, sweet! fantasy baby!\n",
    "Sweet sweet fantasy baby\n",
    "Sweet sweet fantasy baby\"\"\""
   ]
  },
  {
   "cell_type": "code",
   "execution_count": 10,
   "id": "4190324e",
   "metadata": {},
   "outputs": [
    {
     "name": "stdout",
     "output_type": "stream",
     "text": [
      "a letra A aparece, 84 vezes na música.\n"
     ]
    }
   ],
   "source": [
    "#1-Crie um REGEX para contar quantas vezes o caracter \"a\" aparece em todo o texto da música.\n",
    "import re\n",
    "resultado = len(re.findall(\"a\", texto))\n",
    "print(\"a letra A aparece,\",resultado,\"vezes na música.\")"
   ]
  },
  {
   "cell_type": "code",
   "execution_count": 17,
   "id": "6d98a3d2",
   "metadata": {},
   "outputs": [
    {
     "name": "stdout",
     "output_type": "stream",
     "text": [
      "A palavra FANTASY aparece 12 vezes na música\n"
     ]
    }
   ],
   "source": [
    "#2-Crie um REGEX em Python para contar quantas vezes a palavra fantasy aparece na música.\n",
    "palavra = \"fantasy\"\n",
    "ocorrencias = re.findall(r'\\b' + re.escape(palavra) + r'\\b', texto, re.IGNORECASE)\n",
    "resultado = (len(ocorrencias))\n",
    "print(\"A palavra FANTASY aparece\",resultado,\"vezes na música\")\n"
   ]
  },
  {
   "cell_type": "code",
   "execution_count": 39,
   "id": "170d44f7",
   "metadata": {},
   "outputs": [
    {
     "name": "stdout",
     "output_type": "stream",
     "text": [
      "As palavras seguidas por exclamação aparecem 2 vezes na música.\n"
     ]
    }
   ],
   "source": [
    "#3-Crie um REGEX em Python para extrair as palavras seguidas por exclamação.\n",
    "encontre_palavras = (re.findall(r'\\b\\w+!', texto))\n",
    "resultado = (len(encontre_palavras))\n",
    "print(\"As palavras seguidas por exclamação aparecem\",resultado,\"vezes na música.\")"
   ]
  },
  {
   "cell_type": "code",
   "execution_count": 45,
   "id": "db5f4c60",
   "metadata": {},
   "outputs": [
    {
     "name": "stdout",
     "output_type": "stream",
     "text": [
      "['take', 'take', 'take', 'take', 'take', 'take']\n"
     ]
    }
   ],
   "source": [
    "#4-Crie um REGEX que extrai qualquer palavra cujo antecessor seja a palavra \"sweet\" e o sucessor seja a palavra \"fantasy\"\n",
    "palavras_encontradas = re.findall(r'\\byou\\s+(\\w+)\\s+me\\b',texto)\n",
    "print(palavras_encontradas)"
   ]
  },
  {
   "cell_type": "code",
   "execution_count": 52,
   "id": "ed89c51d",
   "metadata": {},
   "outputs": [
    {
     "name": "stdout",
     "output_type": "stream",
     "text": [
      "['gó', 'bó']\n"
     ]
    }
   ],
   "source": [
    "#5-Crie um REGEX que retorne as palavras com acento, mas somente os caracteres na palavra que são anteriores ao caracter com acento.\n",
    "palavras_com_acento = re.findall(r'\\b(\\w*[áàéèíìóòúùâêîôûãõäëïöüç])\\w*\\b', texto, re.IGNORECASE)\n",
    "print(palavras_com_acento)"
   ]
  }
 ],
 "metadata": {
  "kernelspec": {
   "display_name": "Python 3 (ipykernel)",
   "language": "python",
   "name": "python3"
  },
  "language_info": {
   "codemirror_mode": {
    "name": "ipython",
    "version": 3
   },
   "file_extension": ".py",
   "mimetype": "text/x-python",
   "name": "python",
   "nbconvert_exporter": "python",
   "pygments_lexer": "ipython3",
   "version": "3.9.13"
  }
 },
 "nbformat": 4,
 "nbformat_minor": 5
}
